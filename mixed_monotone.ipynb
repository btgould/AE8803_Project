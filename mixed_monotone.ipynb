{
 "cells": [
  {
   "cell_type": "markdown",
   "metadata": {},
   "source": [
    "## This code utilizes Mixed Monotone Reachability to Verify the Safety of RTD-prescribed paths"
   ]
  },
  {
   "cell_type": "markdown",
   "metadata": {},
   "source": [
    "# Information:\n",
    "\n",
    "This code is a MM-based adaptation of \"step_4_ex_2_trajectory_optimization.m\" in the RTD Tutorial Step4: Online Planning"
   ]
  },
  {
   "cell_type": "code",
   "execution_count": null,
   "metadata": {},
   "outputs": [],
   "source": [
    "import jax\n",
    "import jax.numpy as jnp\n",
    "from jax import lax\n",
    "import immrax as irx\n",
    "from scipy.interpolate import interp1d\n",
    "import numpy as np\n",
    "from scipy.io import loadmat\n",
    "from functools import partial"
   ]
  },
  {
   "cell_type": "markdown",
   "metadata": {},
   "source": [
    "## Load Data"
   ]
  },
  {
   "cell_type": "code",
   "execution_count": 35,
   "metadata": {},
   "outputs": [],
   "source": [
    "# Control Data\n",
    "data = loadmat('export_for_verification/data1.mat')\n",
    "T_brk = data['T_brk'][0]\n",
    "U_brk = data['U_brk']\n",
    "Z_brk = data['Z_brk']\n",
    "\n",
    "\n",
    "# Obstacle Data\n",
    "obstacle = loadmat('export_for_verification/obs1.mat')\n",
    "O = obstacle['O']\n",
    "O_buf = obstacle['O_buf']\n",
    "O_pts = obstacle['O_pts']\n",
    "\n",
    "U_brk = U_brk.T\n",
    "Z_brk = Z_brk.T # fix row lengths to match T_brk\n"
   ]
  },
  {
   "cell_type": "markdown",
   "metadata": {},
   "source": [
    "# Interpolate Path from RTD Toolbox to Verify Safety Along It"
   ]
  },
  {
   "cell_type": "code",
   "execution_count": null,
   "metadata": {},
   "outputs": [
    {
     "name": "stdout",
     "output_type": "stream",
     "text": [
      "[8.4991864e-04 4.2407246e-06 9.9790492e-04 8.4993267e-01]\n",
      "[[(8.49918637e-04, 8.49918637e-04)]\n",
      " [(4.24072459e-06, 4.24072459e-06)]\n",
      " [(9.97904921e-04, 9.97904921e-04)]\n",
      " [(8.49932671e-01, 8.49932671e-01)]]\n"
     ]
    }
   ],
   "source": [
    "import math\n",
    "\n",
    "interp_p = jax.core.Primitive(\"interp\")\n",
    "\n",
    "def interp (t, T, Z) :\n",
    "    return interp_p.bind(t, T, Z)\n",
    "\n",
    "def interp_impl (t, T, Z) :\n",
    "    return jnp.array([jnp.interp(t, T, Z[:,i], left=Z[0,i], right=Z[-1,i]) for i in range(Z.shape[1])])\n",
    "\n",
    "interp_lowering = jax.interpreters.mlir.lower_fun(interp_impl, False)\n",
    "\n",
    "def interp_batch(vector_arg_values, batch_axes) :\n",
    "    res = jax.vmap(interp_impl, batch_axes)(*vector_arg_values)\n",
    "    return res, 0\n",
    "\n",
    "def interp_abstract_eval (t, T, Z) :\n",
    "    return jax.core.ShapedArray((Z.shape[1],), Z.dtype)\n",
    "\n",
    "def interp_inclusion (t, T, Z) : \n",
    "    t = t.lower if isinstance(t, irx.Interval) else t\n",
    "    T = T.lower if isinstance(T, irx.Interval) else T\n",
    "    Z = Z.lower if isinstance(Z, irx.Interval) else Z\n",
    "    res = interp_impl(t, T, Z)\n",
    "    return irx.interval(res)\n",
    "\n",
    "interp_p.def_impl(interp_impl)\n",
    "interp_p.def_abstract_eval(interp_abstract_eval)\n",
    "jax.interpreters.batching.primitive_batchers[interp_p] = interp_batch\n",
    "jax.interpreters.mlir.register_lowering(interp_p, interp_lowering)\n",
    "irx.nif.inclusion_registry[interp_p] = interp_inclusion\n",
    "\n",
    "\n",
    "# print(sinc((0.01 - T_brk)/0.01))\n",
    "print(interp(0.001, T_brk, Z_brk))\n",
    "print(irx.natif(interp)(irx.interval(0.001), T_brk, Z_brk))"
   ]
  },
  {
   "cell_type": "markdown",
   "metadata": {},
   "source": [
    "## Define Helper Functions"
   ]
  },
  {
   "cell_type": "code",
   "execution_count": 38,
   "metadata": {},
   "outputs": [],
   "source": [
    "def saturate_input(u):\n",
    "    turtlebot_max_yaw_rate = 2.0 # rad/s\n",
    "    turtlebot_max_accel = 2.0 # m/s^2\n",
    "\n",
    "    min_rate = -turtlebot_max_yaw_rate\n",
    "    max_rate = turtlebot_max_yaw_rate\n",
    "    min_accel = -turtlebot_max_accel\n",
    "    max_accel = turtlebot_max_accel\n",
    "\n",
    "\n",
    "    mins = jnp.array([min_rate, min_accel])\n",
    "    maxs = jnp.array([max_rate, max_accel])\n",
    "\n",
    "    return jnp.clip(u, mins, maxs)\n",
    "\n",
    "\n",
    "def rotation_matrix_2D(theta):\n",
    "    return jnp.array([[jnp.cos(theta), -jnp.sin(theta)],\n",
    "                      [jnp.sin(theta), jnp.cos(theta)]])\n",
    "\n",
    "def match_trajectories(t_fdbk, *varargin):\n",
    "    numout = len(varargin) // 2\n",
    "    out = []\n",
    "    for i in range(numout) :\n",
    "        T, Z = varargin[2*i], varargin[2*i+1]\n",
    "        out.append(jnp.array([jnp.interp(t_fdbk, T, Z[:,i], left=Z[0,i], right=Z[-1,i]) for i in range(Z.shape[1])]))    \n",
    "    return out"
   ]
  },
  {
   "cell_type": "code",
   "execution_count": 39,
   "metadata": {},
   "outputs": [],
   "source": [
    "def get_control_inputs(t_curr, z_curr):\n",
    "    # define gains\n",
    "    k_p = 9\n",
    "    k_v = 12\n",
    "    k_a = 1\n",
    "    k_h = 1\n",
    "    k_w = 1\n",
    "    k_hp = 0\n",
    "    \n",
    "    # define parameters\n",
    "    t_lkhd = 0.01\n",
    "    t_fdbk = jnp.minimum(t_curr + t_lkhd, T_brk[-1])\n",
    "\n",
    "    # get current state\n",
    "    # print(z_curr.shape)\n",
    "    p_cur = z_curr[0:2]\n",
    "    h_cur = z_curr[2]\n",
    "    v_cur = z_curr[3]\n",
    "\n",
    "    # get desired state and inputs (assumes zero-order hold), we are doing feedforward about a desired trajectory\n",
    "    u_des = interp(t_fdbk, T_brk, U_brk)\n",
    "    z_des = interp(t_fdbk, T_brk, Z_brk)\n",
    "    p_des = z_des[0:2]\n",
    "    v_des = z_des[3]\n",
    "    h_des = z_des[2]\n",
    "\n",
    "    # get desired feedforward inputs\n",
    "    w_des = u_des[0]\n",
    "    a_des = u_des[1]\n",
    "\n",
    "\n",
    "    R = rotation_matrix_2D(h_cur)\n",
    "    x = p_des - p_cur\n",
    "\n",
    "\n",
    "    p_err = R@x\n",
    "    px_err = p_err[0]\n",
    "    \n",
    "    # compute heading relative to desired position\n",
    "    hp_err = jnp.arctan(p_err[1]/p_err[0])\n",
    "\n",
    "\n",
    "    # compute unsaturated inputs (they get saturated by the agent)\n",
    "    w_out = k_h*(h_des - h_cur) + k_w*w_des + k_hp*hp_err\n",
    "    a_out = k_p*px_err + k_v*(v_des - v_cur) + k_a*a_des\n",
    "\n",
    "    U = jnp.array([w_out, a_out])\n",
    "    return U\n",
    "\n",
    "\n"
   ]
  },
  {
   "cell_type": "markdown",
   "metadata": {},
   "source": [
    "### Now Test Everything We've Done So Far"
   ]
  },
  {
   "cell_type": "code",
   "execution_count": 40,
   "metadata": {},
   "outputs": [
    {
     "name": "stdout",
     "output_type": "stream",
     "text": [
      "[1.0078838 4.275685 ]\n",
      "final_u: [1.0078838 2.       ]\n",
      "t_curr=0, z_curr=array([0. , 0. , 0. , 0.5])\n"
     ]
    }
   ],
   "source": [
    "t_curr = 0\n",
    "# t_curr = 0.135999766496351\n",
    "z_curr = np.array([0, 0, 0, 0.5])#.reshape(4,1)\n",
    "t_lkhd = 0.01\n",
    "\n",
    "\n",
    "U = get_control_inputs(t_curr, z_curr)\n",
    "print(f\"U: {U}\")\n",
    "final_u = saturate_input(U.squeeze())\n",
    "print(f\"final_u: {final_u}\")\n",
    "print(f'{t_curr=}, {z_curr=}')\n",
    "\n"
   ]
  },
  {
   "cell_type": "code",
   "execution_count": 41,
   "metadata": {},
   "outputs": [],
   "source": [
    "# All of the above code is used to define the function u_map\n",
    "def u_map(t,z):\n",
    "    # u = irx.interval(get_control_inputs(t_curr, z_curr, T_brk, U_brk, Z_brk).squeeze())\n",
    "    u_des = get_control_inputs(t, z)\n",
    "    u_sat = saturate_input(u_des)\n",
    "    # u_sat = t*jnp.ones(2)\n",
    "    # print(f\"u_sat: {u_sat}\")\n",
    "    return u_sat\n",
    "\n",
    "# w_map right now is empty, but ready for future implementation where we'd like to see noise\n",
    "def w_map(t, z):\n",
    "    return jnp.array([0., 0., 0., 0.])"
   ]
  },
  {
   "cell_type": "code",
   "execution_count": null,
   "metadata": {},
   "outputs": [],
   "source": []
  },
  {
   "cell_type": "code",
   "execution_count": 42,
   "metadata": {},
   "outputs": [
    {
     "name": "stdout",
     "output_type": "stream",
     "text": [
      "iz_curr = [-0.01 -0.01 -0.01  0.49] <= x <= [0.01 0.01 0.01 0.51]\n"
     ]
    }
   ],
   "source": [
    "u_map(t_curr, z_curr)\n",
    "\n",
    "iz_curr = irx.icentpert(z_curr, 0.01)\n",
    "print(f\"{iz_curr = }\")\n",
    "iw_map = lambda t, x : irx.icentpert([0., 0., 0., 0.], [0.0, 0.0, 0.0, 0.0])"
   ]
  },
  {
   "cell_type": "code",
   "execution_count": 43,
   "metadata": {},
   "outputs": [],
   "source": [
    "\n",
    "class TurtleBot (irx.ControlledSystem) :\n",
    "    def __init__ (self) :\n",
    "        self.evolution = 'continuous'\n",
    "        self.xlen = 4\n",
    "\n",
    "    def f(self, t, x, u, w):\n",
    "        # print(f\"x: {x}\")\n",
    "        # print(f\"u: {u}\")\n",
    "        px, py, h, v = x.squeeze()\n",
    "        u1, u2 = u.squeeze()\n",
    "        w1, w2, w3, w4 = w\n",
    "\n",
    "        xd = v*jnp.cos(h) + w1\n",
    "        yd = v*jnp.sin(h) + w2\n",
    "        hd = u1 + w3\n",
    "        vd = u2 + w4\n",
    "\n",
    "        zd = jnp.array([xd, yd, hd, vd])\n",
    "        return zd\n",
    "\n",
    "class TurtleBotControl (irx.Control) :\n",
    "    def u (self,t,x) :\n",
    "        return u_map(t,x)\n",
    "\n",
    "\n",
    "olsys = TurtleBot()\n",
    "control = TurtleBotControl()\n",
    "sys = irx.ControlledSystem(olsys, control)\n",
    "embsys = irx.natemb(sys)\n",
    "# embsys = irx.mjacemb(sys)\n",
    "\n",
    "# def func(t,y,args):\n",
    "#     return f(t,y,u_map(t,y))\n",
    "\n",
    "# # func = lambda t, y, input: f(t,y, input)\n",
    "# print(\"in f\")\n",
    "\n",
    "# out = func(t_curr, z_curr, None)\n",
    "# print(f\"out: {out}\")"
   ]
  },
  {
   "cell_type": "code",
   "execution_count": 44,
   "metadata": {},
   "outputs": [
    {
     "name": "stdout",
     "output_type": "stream",
     "text": [
      "t0: 0.0\n",
      "tf: 0.9249663441924902\n",
      "dt: 0.01\n"
     ]
    }
   ],
   "source": [
    "from diffrax import diffeqsolve, ODETerm, Dopri5, Tsit5, Euler, SaveAt, AbstractSolver\n",
    "import jax.numpy as jnp\n",
    "\n",
    "t0 = 0.0\n",
    "tf = T_brk[-1]\n",
    "dt = 0.01\n",
    "print(f\"t0: {t0}\")\n",
    "print(f\"tf: {tf}\")\n",
    "print(f\"dt: {dt}\")\n",
    "\n",
    "# term = ODETerm(func)\n",
    "# # print(f\"term: {term}\")\n",
    "# solver = Dopri5()\n",
    "# y0 = jnp.array([0., 0., 0.,.5])\n",
    "# saveat = SaveAt(t0=True, t1=True, steps=True)\n",
    "# traj = diffeqsolve(term, solver, t0=t0, t1=tf, dt0=0.01, y0=y0, saveat=saveat)\n",
    "# traj = sys.compute_trajectory(t0, tf, z_curr, (u_map, w_map), dt, solver='rk45')\n",
    "# embtraj = embsys.compute_trajectory(t0, tf, irx.i2ut(iz_curr), (iu_map, iw_map), dt, solver='rk45')\n"
   ]
  },
  {
   "cell_type": "code",
   "execution_count": 46,
   "metadata": {},
   "outputs": [],
   "source": [
    "traj = sys.compute_trajectory(t0, tf, z_curr, (w_map,), dt, solver='rk45')"
   ]
  },
  {
   "cell_type": "code",
   "execution_count": 50,
   "metadata": {},
   "outputs": [
    {
     "name": "stdout",
     "output_type": "stream",
     "text": [
      "[[(5.04085124e-01, 0.54873383)]\n",
      " [(1.87497497e-01, 0.22643273)]\n",
      " [(7.03036249e-01, 0.71096754)]\n",
      " [(1.86641366e-04, 0.03772682)]]\n",
      "tt.shape: (94,)\n",
      "xx.shape: (94, 4)\n",
      "xf: [0.5261956  0.20674083 0.7070013  0.01801238]\n"
     ]
    }
   ],
   "source": [
    "tfinite = jnp.where(jnp.isfinite(traj.ts))\n",
    "tt = traj.ts[tfinite]\n",
    "xx = traj.ys[tfinite]\n",
    "\n",
    "ixx = embtraj.ys[tfinite]\n",
    "print(irx.ut2i(ixx[-1]))\n",
    "\n",
    "print(f\"tt.shape: {tt.shape}\")\n",
    "print(f\"xx.shape: {xx.shape}\")\n",
    "xf = xx[-1]\n",
    "print(f\"xf: {xf}\")\n",
    "# print(irx.ut2i(xf))\n",
    "xf = irx.interval(xf)"
   ]
  },
  {
   "cell_type": "code",
   "execution_count": 55,
   "metadata": {},
   "outputs": [
    {
     "data": {
      "text/plain": [
       "<Figure size 640x480 with 0 Axes>"
      ]
     },
     "metadata": {},
     "output_type": "display_data"
    },
    {
     "data": {
      "image/png": "[encoded data removed]",
      "text/plain": [
       "<Figure size 640x480 with 1 Axes>"
      ]
     },
     "metadata": {},
     "output_type": "display_data"
    }
   ],
   "source": [
    "### Plot Everything\n",
    "import matplotlib.pyplot as plt \n",
    "from immrax.utils import get_partitions_ut, run_times, draw_iarrays, gen_ics, draw_iarray\n",
    "\n",
    "x_des = 0.75 # robot desired location\n",
    "y_des = 0.5\n",
    "z0 = z_curr # initial location\n",
    "zx0 = z_curr[0] \n",
    "zy0 = z_curr[1] \n",
    "ZXs = Z_brk[:,0] #desired path\n",
    "ZYs = Z_brk[:,1]\n",
    "\n",
    "\n",
    "plt.figure(1) # Create a Figure\n",
    "fig, ax = plt.subplots()\n",
    "\n",
    "ax.fill(O_buf[0], O_buf[1], color=[1, 0.5, 0.6]) # Plot the buffered obstacle\n",
    "ax.fill(O[0], O[1], color=[1, 0.7, 0.8]) # Plot actual obstacle\n",
    "ax.plot(O_pts[0,:], O_pts[1,:], '.', color=[0.5, 0.1, 0.1], markersize=15) # Plot discretized obstacle border\n",
    "ax.plot(x_des, y_des, 'k*', linewidth=2, markersize=15) # Plot the desired location of the robot\n",
    "ax.plot(zx0, zy0, 'b*', linewidth=2, markersize=15) # Plot the current location of the robot\n",
    "ax.plot(ZXs, ZYs, 'r', linewidth=2, markersize=15, label='Desired Trajectory') # Plot the desired path of the robot\n",
    "\n",
    "# Plot reachable set hyperrectangular over-approximations over time or their union\n",
    "# for ix in ixx :\n",
    "#     irx.utils.draw_iarray(ax, irx.ut2i(ix), zorder=1)\n",
    "irx.utils.draw_iarrays(ax, [irx.ut2i(ix) for ix in ixx], zorder=2, label='Reachable Set') \n",
    "\n",
    "\n",
    "ax.plot(xx[:,0], xx[:,1], 'b', markersize=2, label='Tracked Trajectory') #Plot the nominal trajectory with zero disturbance or uncertainty in the input\n",
    "# ax.set_aspect('equal', 'box')\n",
    "ax.axis('equal')\n",
    "ax.legend(loc=\"lower left\", fontsize=\"8\")\n",
    "\n",
    "plt.show() # Show the plot\n",
    "\n"
   ]
  }
 ],
 "metadata": {
  "kernelspec": {
   "display_name": "immrax2",
   "language": "python",
   "name": "python3"
  },
  "language_info": {
   "codemirror_mode": {
    "name": "ipython",
    "version": 3
   },
   "file_extension": ".py",
   "mimetype": "text/x-python",
   "name": "python",
   "nbconvert_exporter": "python",
   "pygments_lexer": "ipython3",
   "version": "3.11.9"
  }
 },
 "nbformat": 4,
 "nbformat_minor": 2
}
